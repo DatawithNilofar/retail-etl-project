{
 "cells": [
  {
   "cell_type": "markdown",
   "id": "b4ae16b8",
   "metadata": {},
   "source": [
    "# 🛍️ Retail Sales ETL & Analysis Project\n",
    "\n",
    "This notebook demonstrates a complete ETL (Extract, Transform, Load) process on retail sales data for January and February. It includes SQL-style queries and visualizations for insight generation."
   ]
  },
  {
   "cell_type": "code",
   "execution_count": null,
   "id": "7a5ef245",
   "metadata": {},
   "outputs": [],
   "source": [
    "import pandas as pd\n",
    "import sqlite3\n",
    "import matplotlib.pyplot as plt\n",
    "import seaborn as sns\n",
    "sns.set(style=\"whitegrid\")\n"
   ]
  },
  {
   "cell_type": "markdown",
   "id": "841461e8",
   "metadata": {},
   "source": [
    "## 📥 Step 1: Extract Data"
   ]
  },
  {
   "cell_type": "code",
   "execution_count": null,
   "id": "ca7ea7a3",
   "metadata": {},
   "outputs": [],
   "source": [
    "sales_jan = pd.read_csv('sales_jan.csv')\n",
    "sales_feb = pd.read_csv('sales_feb.csv')\n",
    "products = pd.read_csv('products.csv')\n",
    "\n",
    "# Combine sales data\n",
    "sales = pd.concat([sales_jan, sales_feb])\n",
    "sales.head()"
   ]
  },
  {
   "cell_type": "markdown",
   "id": "0ad378d6",
   "metadata": {},
   "source": [
    "## 🔄 Step 2: Transform Data"
   ]
  },
  {
   "cell_type": "code",
   "execution_count": null,
   "id": "79f8afaa",
   "metadata": {},
   "outputs": [],
   "source": [
    "# Calculate total amount\n",
    "sales['TotalAmount'] = sales['Quantity'] * sales['Price']\n",
    "\n",
    "# Merge with product info\n",
    "sales = sales.merge(products, on='ProductID')\n",
    "\n",
    "# Convert date column\n",
    "sales['Date'] = pd.to_datetime(sales['Date'])\n",
    "sales.head()"
   ]
  },
  {
   "cell_type": "markdown",
   "id": "bd6e546d",
   "metadata": {},
   "source": [
    "## 💾 Step 3: Load into SQLite Database"
   ]
  },
  {
   "cell_type": "code",
   "execution_count": null,
   "id": "d041f372",
   "metadata": {},
   "outputs": [],
   "source": [
    "conn = sqlite3.connect('retail.db')\n",
    "sales.to_sql('sales_data', conn, if_exists='replace', index=False)\n"
   ]
  },
  {
   "cell_type": "markdown",
   "id": "855287e2",
   "metadata": {},
   "source": [
    "## 📊 Step 4: SQL Queries for Insights"
   ]
  },
  {
   "cell_type": "code",
   "execution_count": null,
   "id": "0bf082b1",
   "metadata": {},
   "outputs": [],
   "source": [
    "query = '''\n",
    "SELECT strftime('%Y-%m', Date) AS Month, SUM(TotalAmount) AS Revenue\n",
    "FROM sales_data\n",
    "GROUP BY Month\n",
    "'''\n",
    "pd.read_sql(query, conn)"
   ]
  },
  {
   "cell_type": "code",
   "execution_count": null,
   "id": "00dbfd47",
   "metadata": {},
   "outputs": [],
   "source": [
    "query = '''\n",
    "SELECT ProductName, SUM(TotalAmount) AS TotalRevenue\n",
    "FROM sales_data\n",
    "GROUP BY ProductName\n",
    "ORDER BY TotalRevenue DESC\n",
    "LIMIT 5\n",
    "'''\n",
    "pd.read_sql(query, conn)"
   ]
  },
  {
   "cell_type": "code",
   "execution_count": null,
   "id": "21bd3633",
   "metadata": {},
   "outputs": [],
   "source": [
    "query = '''\n",
    "SELECT Category, SUM(Quantity) AS TotalSold\n",
    "FROM sales_data\n",
    "GROUP BY Category\n",
    "ORDER BY TotalSold DESC\n",
    "'''\n",
    "pd.read_sql(query, conn)"
   ]
  },
  {
   "cell_type": "code",
   "execution_count": null,
   "id": "3b6a481b",
   "metadata": {},
   "outputs": [],
   "source": [
    "query = '''\n",
    "SELECT AVG(TotalAmount) AS AvgOrderValue\n",
    "FROM sales_data\n",
    "'''\n",
    "pd.read_sql(query, conn)"
   ]
  },
  {
   "cell_type": "markdown",
   "id": "a65e3913",
   "metadata": {},
   "source": [
    "## 📈 Step 5: Visualizations"
   ]
  },
  {
   "cell_type": "code",
   "execution_count": null,
   "id": "529f336e",
   "metadata": {},
   "outputs": [],
   "source": [
    "# Monthly revenue bar chart\n",
    "monthly_sales = sales.groupby(sales['Date'].dt.to_period('M'))['TotalAmount'].sum()\n",
    "monthly_sales.plot(kind='bar', title='Monthly Sales Revenue', ylabel='Revenue', xlabel='Month')\n",
    "plt.show()\n"
   ]
  },
  {
   "cell_type": "code",
   "execution_count": null,
   "id": "12c3dcbf",
   "metadata": {},
   "outputs": [],
   "source": [
    "# Category-wise sales pie chart\n",
    "category_sales = sales.groupby('Category')['TotalAmount'].sum()\n",
    "category_sales.plot(kind='pie', autopct='%1.1f%%', title='Sales by Category')\n",
    "plt.ylabel('')\n",
    "plt.show()\n"
   ]
  },
  {
   "cell_type": "markdown",
   "id": "e8b60248",
   "metadata": {},
   "source": [
    "## 🧠 Step 6: Business Insights & Recommendations\n",
    "\n",
    "- **Insight 1:** Revenue increased in February, mainly driven by smartphone sales.\n",
    "- **Insight 2:** Electronics dominate the revenue share.\n",
    "- **Recommendation:** Focus marketing efforts on top-performing products and consider bundling accessories like chargers with smartphones."
   ]
  }
 ],
 "metadata": {},
 "nbformat": 4,
 "nbformat_minor": 5
}
